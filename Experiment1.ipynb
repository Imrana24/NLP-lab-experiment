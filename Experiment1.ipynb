{
  "nbformat": 4,
  "nbformat_minor": 0,
  "metadata": {
    "colab": {
      "name": "Experiment1",
      "provenance": [],
      "authorship_tag": "ABX9TyPU4UkVhrmWmWNtoHKbTjwE",
      "include_colab_link": true
    },
    "kernelspec": {
      "name": "python3",
      "display_name": "Python 3"
    },
    "language_info": {
      "name": "python"
    }
  },
  "cells": [
    {
      "cell_type": "markdown",
      "metadata": {
        "id": "view-in-github",
        "colab_type": "text"
      },
      "source": [
        "<a href=\"https://colab.research.google.com/github/Imrana24/NLP-lab-experiment/blob/main/Experiment1.ipynb\" target=\"_parent\"><img src=\"https://colab.research.google.com/assets/colab-badge.svg\" alt=\"Open In Colab\"/></a>"
      ]
    },
    {
      "cell_type": "markdown",
      "metadata": {
        "id": "9_yLaxBJzb76"
      },
      "source": [
        "**EXPERIMENT 1**"
      ]
    },
    {
      "cell_type": "markdown",
      "metadata": {
        "id": "G-MuGMRnzyU5"
      },
      "source": [
        "Replace all occurrences of 5 with ‘five’ for the given string"
      ]
    },
    {
      "cell_type": "code",
      "metadata": {
        "id": "y4yr8s4-z0vD"
      },
      "source": [
        "import re"
      ],
      "execution_count": null,
      "outputs": []
    },
    {
      "cell_type": "code",
      "metadata": {
        "id": "vfcqs5Rd1AVE"
      },
      "source": [
        "s='Sita is perfect in 5 programming languages'"
      ],
      "execution_count": null,
      "outputs": []
    },
    {
      "cell_type": "code",
      "metadata": {
        "colab": {
          "base_uri": "https://localhost:8080/",
          "height": 35
        },
        "id": "oV9lzc5E2leh",
        "outputId": "65f922e7-5219-4b58-aaa0-5871c8394470"
      },
      "source": [
        "re.sub(r'5', 'five', s)"
      ],
      "execution_count": null,
      "outputs": [
        {
          "output_type": "execute_result",
          "data": {
            "application/vnd.google.colaboratory.intrinsic+json": {
              "type": "string"
            },
            "text/plain": [
              "'Sita is perfect in five programming languages'"
            ]
          },
          "metadata": {},
          "execution_count": 7
        }
      ]
    },
    {
      "cell_type": "markdown",
      "metadata": {
        "id": "IsIY1gtP3in_"
      },
      "source": [
        "For the given list, filter all elements that do not contain ‘e’.\n"
      ]
    },
    {
      "cell_type": "code",
      "metadata": {
        "colab": {
          "base_uri": "https://localhost:8080/"
        },
        "id": "sEOOUzIw3l5S",
        "outputId": "a9248f9e-f546-4ee5-d92b-c68eee7e1f8f"
      },
      "source": [
        "list=['Welcome','to','my','NLP','repository']\n",
        "[i for i in list if not re.search(r'e', i)]"
      ],
      "execution_count": null,
      "outputs": [
        {
          "output_type": "execute_result",
          "data": {
            "text/plain": [
              "['to', 'my', 'NLP']"
            ]
          },
          "metadata": {},
          "execution_count": 9
        }
      ]
    },
    {
      "cell_type": "markdown",
      "metadata": {
        "id": "7nV6RTj852pY"
      },
      "source": [
        "For the given input string, display all lines not containing ‘start’ irrespective of case.\n"
      ]
    },
    {
      "cell_type": "code",
      "metadata": {
        "colab": {
          "base_uri": "https://localhost:8080/"
        },
        "id": "tslRt3kk7L7n",
        "outputId": "72205458-651b-4541-f8b4-2359eb329efc"
      },
      "source": [
        "k = '''Hello everyone!!! College will start on 20-10-2021, \n",
        "be ready for semester exams and \n",
        "start preparation'''\n",
        "w = re.compile(r'start', flags=re.I)\n",
        "for i in k.split('\\n'):\n",
        "     if not w.search(i):\n",
        "         print(i) "
      ],
      "execution_count": null,
      "outputs": [
        {
          "output_type": "stream",
          "name": "stdout",
          "text": [
            "be ready for semester exams and \n"
          ]
        }
      ]
    },
    {
      "cell_type": "markdown",
      "metadata": {
        "id": "ckMA9l4YMfme"
      },
      "source": [
        "For the given input list, filter all elements that contains 42 surrounded by word characters."
      ]
    },
    {
      "cell_type": "code",
      "metadata": {
        "colab": {
          "base_uri": "https://localhost:8080/"
        },
        "id": "QtisQp8DMj-B",
        "outputId": "c20b5254-3acc-4696-91c2-cc38cefed803"
      },
      "source": [
        "list = ['imrana0424sk', 'anu2009t', 'bhanu2001k', 'rohit0424p']\n",
        "[x for x in list if re.search(r'\\B42\\B', x)]"
      ],
      "execution_count": null,
      "outputs": [
        {
          "output_type": "execute_result",
          "data": {
            "text/plain": [
              "['imrana0424sk', 'rohit0424p']"
            ]
          },
          "metadata": {},
          "execution_count": 30
        }
      ]
    },
    {
      "cell_type": "markdown",
      "metadata": {
        "id": "1WZiQodZNPWZ"
      },
      "source": [
        "Validate the CVV number(It should have 3 or 4 digits, It should have a digit between 0-9, It should not have any alphabets and special characters)"
      ]
    },
    {
      "cell_type": "code",
      "metadata": {
        "colab": {
          "base_uri": "https://localhost:8080/"
        },
        "id": "So3I9CyFNXKK",
        "outputId": "11d53de8-0db7-43cb-fa88-2f552a9bb3e0"
      },
      "source": [
        "def isValidCVVNumber(str):\n",
        "    regex = \"^[0-9]{3,4}$\"\n",
        "    p = re.compile(regex)\n",
        "    if(str == None):\n",
        "        return False\n",
        "    if(re.search(p, str)):\n",
        "        return True\n",
        "    else:\n",
        "        return False\n",
        "s1 = \"123\"\n",
        "print(isValidCVVNumber(s1))\n",
        "s2 = \"8b51\"\n",
        "print(isValidCVVNumber(s2))\n",
        "s3 = \"6aa4\"\n",
        "print(isValidCVVNumber(s3))\n",
        "s4 = \"9a#1\"\n",
        "print(isValidCVVNumber(s4))"
      ],
      "execution_count": null,
      "outputs": [
        {
          "output_type": "stream",
          "name": "stdout",
          "text": [
            "True\n",
            "False\n",
            "False\n",
            "False\n"
          ]
        }
      ]
    },
    {
      "cell_type": "markdown",
      "metadata": {
        "id": "4wEgHTwaN8xH"
      },
      "source": [
        "For the given input string, change whole word mall to 1234 only if it is at the start of a line\n"
      ]
    },
    {
      "cell_type": "code",
      "metadata": {
        "colab": {
          "base_uri": "https://localhost:8080/"
        },
        "id": "vPyyazENOKsu",
        "outputId": "c0b7b071-3339-45dc-c661-7bc1f64fe25a"
      },
      "source": [
        "p = '''mall hall ball\n",
        "hell mall wall\n",
        "mall gril mall'''\n",
        "\n",
        "print(re.sub(r'^mall\\b', '1234', p, flags=re.M))"
      ],
      "execution_count": null,
      "outputs": [
        {
          "output_type": "stream",
          "name": "stdout",
          "text": [
            "1234 hall ball\n",
            "hell mall wall\n",
            "1234 gril mall\n"
          ]
        }
      ]
    },
    {
      "cell_type": "markdown",
      "metadata": {
        "id": "jRSYCZr1OmAp"
      },
      "source": [
        "Check whether the given email address is valid or not."
      ]
    },
    {
      "cell_type": "code",
      "metadata": {
        "colab": {
          "base_uri": "https://localhost:8080/"
        },
        "id": "4NDZCM4zOsm6",
        "outputId": "67b2e812-0cf2-4d0b-e793-d3944e9a5bf0"
      },
      "source": [
        "regex = r'\\b[A-Za-z0-9._%+-]+@[A-Za-z0-9.-]+\\.[A-Z|a-z]{2,}\\b'\n",
        " \n",
        "def check(email):\n",
        "    if(re.fullmatch(regex, email)):\n",
        "        print(\"Valid Email\")\n",
        "    else:\n",
        "        print(\"Invalid Email\")\n",
        "if __name__ == '__main__':\n",
        "    email = \"imranaimmu@gmail.com\"\n",
        "    check(email)\n",
        "    email = \"rohit.edu.in\"\n",
        "    check(email) \n",
        "    email = \"anu.com\"\n",
        "    check(email)"
      ],
      "execution_count": null,
      "outputs": [
        {
          "output_type": "stream",
          "name": "stdout",
          "text": [
            "Valid Email\n",
            "Invalid Email\n",
            "Invalid Email\n"
          ]
        }
      ]
    },
    {
      "cell_type": "markdown",
      "metadata": {
        "id": "Zwh4Yl5yO9Ms"
      },
      "source": [
        "8.Check whether the Aadhar number is valid or not ( It should have 12 digits, It should not start with 0 and 1, It should not contain any alphabet and special characters, It should have white space after every 4 digits)\n"
      ]
    },
    {
      "cell_type": "code",
      "metadata": {
        "colab": {
          "base_uri": "https://localhost:8080/"
        },
        "id": "jaYOvEgsPDvM",
        "outputId": "b18984a4-882c-4215-cc65-7dd13cbb941f"
      },
      "source": [
        "def isValidAadharNumber(str):\n",
        "  regex = (\"^[2-9]{1}[0-9]{3}\\\\\" + \"s[0-9]{4}\\\\s[0-9]{4}$\")\n",
        "  a= re.compile(regex)\n",
        "  if (str == None):\n",
        "        return False\n",
        "  if(re.search(a, str)):\n",
        "        return True\n",
        "  else:\n",
        "        return False\n",
        "s1 = \"2234 9834 6015 \"\n",
        "print(isValidAadharNumber(s1))\n",
        "s2 = \"4678 1234 9012\"\n",
        "print(isValidAadharNumber(s2))\n",
        "s3 = \"987 9834 6012 5@\"\n",
        "print(isValidAadharNumber(s3))\n",
        "s4 = \"3675 98F 60#2\"\n",
        "print(isValidAadharNumber(s4))\n",
        "s5 = \"4175 9834 6012\"\n",
        "print(isValidAadharNumber(s5))"
      ],
      "execution_count": null,
      "outputs": [
        {
          "output_type": "stream",
          "name": "stdout",
          "text": [
            "False\n",
            "True\n",
            "False\n",
            "False\n",
            "True\n"
          ]
        }
      ]
    }
  ]
}