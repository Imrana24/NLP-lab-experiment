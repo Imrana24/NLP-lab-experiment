{
  "nbformat": 4,
  "nbformat_minor": 0,
  "metadata": {
    "colab": {
      "name": "Experiment3",
      "provenance": [],
      "authorship_tag": "ABX9TyMZD1qIOVfag7+BJf1LGWav",
      "include_colab_link": true
    },
    "kernelspec": {
      "name": "python3",
      "display_name": "Python 3"
    },
    "language_info": {
      "name": "python"
    }
  },
  "cells": [
    {
      "cell_type": "markdown",
      "metadata": {
        "id": "view-in-github",
        "colab_type": "text"
      },
      "source": [
        "<a href=\"https://colab.research.google.com/github/Imrana24/NLP-lab-experiment/blob/main/Experiment3.ipynb\" target=\"_parent\"><img src=\"https://colab.research.google.com/assets/colab-badge.svg\" alt=\"Open In Colab\"/></a>"
      ]
    },
    {
      "cell_type": "markdown",
      "metadata": {
        "id": "I07reuSnYAX0"
      },
      "source": [
        "**EXPERIMENT 3**"
      ]
    },
    {
      "cell_type": "markdown",
      "metadata": {
        "id": "2vs0Ud83YPF-"
      },
      "source": [
        "**Write a program to implement the Minimum Edit Distance algorithm using Python.**"
      ]
    },
    {
      "cell_type": "code",
      "metadata": {
        "colab": {
          "base_uri": "https://localhost:8080/"
        },
        "id": "rVvsUAvEYU9A",
        "outputId": "8e148c5b-7fac-4298-da07-9b6ddc6d478d"
      },
      "source": [
        "import numpy as np\n",
        "\n",
        "def edit_Distance(X, Y):\n",
        "    Xlen, Ylen = len(X), len(Y)\n",
        "    table = np.zeros( (Xlen+1, Ylen+1), dtype=int)\n",
        "\n",
        "    for i in range(1, Xlen+1):\n",
        "        table[i, 0] = table[i-1, 0] + 1  # del cost - 1\n",
        "    \n",
        "    for j in range(1, Ylen+1):\n",
        "        table[0, j] = table[0, j-1] + 1  #ins-cose - 1\n",
        "    \n",
        "    # Recurrence relation\n",
        "    for i in range(1, Xlen+1):\n",
        "        for j in range(1, Ylen+1):\n",
        "            table[i, j] = min(\n",
        "                table[i-1, j] + 1,\n",
        "                table[i, j-1] + 1,\n",
        "                table[i-1, j-1] if (X[i-1]==Y[j-1]) else table[i-1, j-1]+2\n",
        "            )\n",
        "    print(table)\n",
        "    return table[Xlen, Ylen]\n",
        "\n",
        "\n",
        "source = \"program\"\n",
        "target = \"progress\"\n",
        "print(f'Distance between {source} and {target} is {edit_Distance(source, target)}')\n"
      ],
      "execution_count": 1,
      "outputs": [
        {
          "output_type": "stream",
          "name": "stdout",
          "text": [
            "[[0 1 2 3 4 5 6 7 8]\n",
            " [1 0 1 2 3 4 5 6 7]\n",
            " [2 1 0 1 2 3 4 5 6]\n",
            " [3 2 1 0 1 2 3 4 5]\n",
            " [4 3 2 1 0 1 2 3 4]\n",
            " [5 4 3 2 1 0 1 2 3]\n",
            " [6 5 4 3 2 1 2 3 4]\n",
            " [7 6 5 4 3 2 3 4 5]]\n",
            "Distance between program and progress is 5\n"
          ]
        }
      ]
    }
  ]
}