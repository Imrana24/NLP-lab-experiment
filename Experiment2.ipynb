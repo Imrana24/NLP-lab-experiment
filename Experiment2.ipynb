{
  "nbformat": 4,
  "nbformat_minor": 0,
  "metadata": {
    "colab": {
      "name": "Experiment2",
      "provenance": [],
      "authorship_tag": "ABX9TyNYqNIa0Red3ydhoUSh1zFi",
      "include_colab_link": true
    },
    "kernelspec": {
      "name": "python3",
      "display_name": "Python 3"
    },
    "language_info": {
      "name": "python"
    }
  },
  "cells": [
    {
      "cell_type": "markdown",
      "metadata": {
        "id": "view-in-github",
        "colab_type": "text"
      },
      "source": [
        "<a href=\"https://colab.research.google.com/github/Imrana24/NLP-lab-experiment/blob/main/Experiment2.ipynb\" target=\"_parent\"><img src=\"https://colab.research.google.com/assets/colab-badge.svg\" alt=\"Open In Colab\"/></a>"
      ]
    },
    {
      "cell_type": "markdown",
      "metadata": {
        "id": "NaVuo6q1DwAx"
      },
      "source": [
        "**EXPERIMENT 2**"
      ]
    },
    {
      "cell_type": "markdown",
      "metadata": {
        "id": "nroOsEHAD1nr"
      },
      "source": [
        "Tokenize the given text into words and sentences by using three methods (split method, regular expressions and NLTK)\n"
      ]
    },
    {
      "cell_type": "markdown",
      "metadata": {
        "id": "hwg2AntvHjbJ"
      },
      "source": [
        "**1 Tokenization using Pythons split() function**"
      ]
    },
    {
      "cell_type": "code",
      "metadata": {
        "colab": {
          "base_uri": "https://localhost:8080/"
        },
        "id": "ip_35D87D3dZ",
        "outputId": "7fd22109-0ff2-45b8-8edd-bcdbfaf28743"
      },
      "source": [
        "# Word Tokenization\n",
        "text = '''Here is the list of Panchatantra short stories, which we are providing you with: The Monkey and The Crocodile: This Panchatantra story is about an intelligent Monkey and a foolish Crocodile. Take a dive into an engaging story about betrayal in friendship.\n",
        "'''\n",
        "tokens = text.split()\n",
        "print(tokens)\n",
        "print(\"No.of tokens : \", len(tokens))\n"
      ],
      "execution_count": 1,
      "outputs": [
        {
          "output_type": "stream",
          "name": "stdout",
          "text": [
            "['Here', 'is', 'the', 'list', 'of', 'Panchatantra', 'short', 'stories,', 'which', 'we', 'are', 'providing', 'you', 'with:', 'The', 'Monkey', 'and', 'The', 'Crocodile:', 'This', 'Panchatantra', 'story', 'is', 'about', 'an', 'intelligent', 'Monkey', 'and', 'a', 'foolish', 'Crocodile.', 'Take', 'a', 'dive', 'into', 'an', 'engaging', 'story', 'about', 'betrayal', 'in', 'friendship.']\n",
            "No.of tokens :  42\n"
          ]
        }
      ]
    },
    {
      "cell_type": "code",
      "metadata": {
        "colab": {
          "base_uri": "https://localhost:8080/"
        },
        "id": "pKG1Qr3lF-Aw",
        "outputId": "e6c66733-c92e-4ee2-be5c-ca24055b93cd"
      },
      "source": [
        "# Sentence Tokenization\n",
        "text = '''Here is the list of Panchatantra short stories, which we are providing you with: The Monkey and The Crocodile: This Panchatantra story is about an intelligent Monkey and a foolish Crocodile. Take a dive into an engaging story about betrayal in friendship.\n",
        "'''\n",
        "sentences = text.split('.')\n",
        "print(sentences)\n",
        "print(\"No.of sentences : \", len(sentences))"
      ],
      "execution_count": 4,
      "outputs": [
        {
          "output_type": "stream",
          "name": "stdout",
          "text": [
            "['Here is the list of Panchatantra short stories, which we are providing you with: The Monkey and The Crocodile: This Panchatantra story is about an intelligent Monkey and a foolish Crocodile', ' Take a dive into an engaging story about betrayal in friendship', '\\n']\n",
            "No.of sentences :  3\n"
          ]
        }
      ]
    },
    {
      "cell_type": "markdown",
      "metadata": {
        "id": "tn0WcTpUHxBo"
      },
      "source": [
        "**2. Tokenization using Regular Expressions (RegEx)**"
      ]
    },
    {
      "cell_type": "code",
      "metadata": {
        "id": "EwA7eoFIH466"
      },
      "source": [
        "import re"
      ],
      "execution_count": 6,
      "outputs": []
    },
    {
      "cell_type": "code",
      "metadata": {
        "colab": {
          "base_uri": "https://localhost:8080/"
        },
        "id": "kB1nMHKgH7Sw",
        "outputId": "01bc3ef8-d003-4abf-c6f7-837e8fe224ff"
      },
      "source": [
        "#word tokenization\n",
        "tokens = re.findall(\"[\\w']+\", text)  \n",
        "print(tokens)\n",
        "print(\"No.of tokens : \", len(tokens))\n"
      ],
      "execution_count": 7,
      "outputs": [
        {
          "output_type": "stream",
          "name": "stdout",
          "text": [
            "['Here', 'is', 'the', 'list', 'of', 'Panchatantra', 'short', 'stories', 'which', 'we', 'are', 'providing', 'you', 'with', 'The', 'Monkey', 'and', 'The', 'Crocodile', 'This', 'Panchatantra', 'story', 'is', 'about', 'an', 'intelligent', 'Monkey', 'and', 'a', 'foolish', 'Crocodile', 'Take', 'a', 'dive', 'into', 'an', 'engaging', 'story', 'about', 'betrayal', 'in', 'friendship']\n",
            "No.of tokens :  42\n"
          ]
        }
      ]
    },
    {
      "cell_type": "code",
      "metadata": {
        "colab": {
          "base_uri": "https://localhost:8080/"
        },
        "id": "VXu5sf8xIIwz",
        "outputId": "c328b808-c9c0-49eb-c51b-cb0522ba0dba"
      },
      "source": [
        "#sentence tokenization\n",
        "sentences = re.compile('[.:?!] ').split(text)\n",
        "print(sentences)\n",
        "print(\"No.of sentences : \", len(sentences))\n"
      ],
      "execution_count": 9,
      "outputs": [
        {
          "output_type": "stream",
          "name": "stdout",
          "text": [
            "['Here is the list of Panchatantra short stories, which we are providing you with', 'The Monkey and The Crocodile', 'This Panchatantra story is about an intelligent Monkey and a foolish Crocodile', 'Take a dive into an engaging story about betrayal in friendship.\\n']\n",
            "No.of sentences :  4\n"
          ]
        }
      ]
    },
    {
      "cell_type": "markdown",
      "metadata": {
        "id": "iG8u1Kh4Ihnn"
      },
      "source": [
        "**3. Tokenization using NLTK**"
      ]
    },
    {
      "cell_type": "code",
      "metadata": {
        "colab": {
          "base_uri": "https://localhost:8080/"
        },
        "id": "tvzcv3ydIlgK",
        "outputId": "0c41dded-233a-4e80-c71f-a210f5ae83f0"
      },
      "source": [
        "!pip install --user -U nltk\n"
      ],
      "execution_count": 11,
      "outputs": [
        {
          "output_type": "stream",
          "name": "stdout",
          "text": [
            "Requirement already satisfied: nltk in /root/.local/lib/python3.7/site-packages (3.6.5)\n",
            "Requirement already satisfied: tqdm in /usr/local/lib/python3.7/dist-packages (from nltk) (4.62.3)\n",
            "Requirement already satisfied: click in /usr/local/lib/python3.7/dist-packages (from nltk) (7.1.2)\n",
            "Requirement already satisfied: joblib in /usr/local/lib/python3.7/dist-packages (from nltk) (1.0.1)\n",
            "Requirement already satisfied: regex>=2021.8.3 in /root/.local/lib/python3.7/site-packages (from nltk) (2021.10.8)\n"
          ]
        }
      ]
    },
    {
      "cell_type": "code",
      "metadata": {
        "colab": {
          "base_uri": "https://localhost:8080/"
        },
        "id": "ExqqwbgLJCOe",
        "outputId": "bdfaaf99-fe8e-4e8c-a23d-fad6ef8b41dd"
      },
      "source": [
        "import nltk\n",
        "nltk.download('punkt')\n"
      ],
      "execution_count": 12,
      "outputs": [
        {
          "output_type": "stream",
          "name": "stdout",
          "text": [
            "[nltk_data] Downloading package punkt to /root/nltk_data...\n",
            "[nltk_data]   Unzipping tokenizers/punkt.zip.\n"
          ]
        },
        {
          "output_type": "execute_result",
          "data": {
            "text/plain": [
              "True"
            ]
          },
          "metadata": {},
          "execution_count": 12
        }
      ]
    },
    {
      "cell_type": "code",
      "metadata": {
        "colab": {
          "base_uri": "https://localhost:8080/"
        },
        "id": "XogfIBEuKCfA",
        "outputId": "7317d64c-9c18-44a4-ecbf-b8e7db7ed6ea"
      },
      "source": [
        "#word tokenization\n",
        "from nltk.tokenize import word_tokenize \n",
        "tokens = word_tokenize(text)\n",
        "print(tokens)\n",
        "print(\"No.of tokens : \", len(tokens))"
      ],
      "execution_count": 13,
      "outputs": [
        {
          "output_type": "stream",
          "name": "stdout",
          "text": [
            "['Here', 'is', 'the', 'list', 'of', 'Panchatantra', 'short', 'stories', ',', 'which', 'we', 'are', 'providing', 'you', 'with', ':', 'The', 'Monkey', 'and', 'The', 'Crocodile', ':', 'This', 'Panchatantra', 'story', 'is', 'about', 'an', 'intelligent', 'Monkey', 'and', 'a', 'foolish', 'Crocodile', '.', 'Take', 'a', 'dive', 'into', 'an', 'engaging', 'story', 'about', 'betrayal', 'in', 'friendship', '.']\n",
            "No.of tokens :  47\n"
          ]
        }
      ]
    },
    {
      "cell_type": "code",
      "metadata": {
        "colab": {
          "base_uri": "https://localhost:8080/"
        },
        "id": "LD_yU_CFMToz",
        "outputId": "982ceaff-a942-43b3-bc28-220a49b970d9"
      },
      "source": [
        "#sentence tokenization\n",
        "from nltk.tokenize import sent_tokenize\n",
        "sentences = sent_tokenize(text)\n",
        "print(sentences)\n",
        "print(\"No.of sentences : \", len(sentences))\n"
      ],
      "execution_count": 14,
      "outputs": [
        {
          "output_type": "stream",
          "name": "stdout",
          "text": [
            "['Here is the list of Panchatantra short stories, which we are providing you with: The Monkey and The Crocodile: This Panchatantra story is about an intelligent Monkey and a foolish Crocodile.', 'Take a dive into an engaging story about betrayal in friendship.']\n",
            "No.of sentences :  2\n"
          ]
        }
      ]
    },
    {
      "cell_type": "markdown",
      "metadata": {
        "id": "9GftxSilUQ7o"
      },
      "source": [
        "Perform stemming on the tokens present in the given sentence"
      ]
    },
    {
      "cell_type": "code",
      "metadata": {
        "colab": {
          "base_uri": "https://localhost:8080/"
        },
        "id": "7PTxs2fMVRrS",
        "outputId": "ff914955-107e-4844-a431-d1ce1a0f2d5f"
      },
      "source": [
        "from nltk.stem import PorterStemmer\n",
        "porter = PorterStemmer()\n",
        "\n",
        "sentence=\"Here is the list of Panchatantra short stories, which we are providing you with: The Monkey and The Crocodile: This Panchatantra story is about an intelligent Monkey and a foolish Crocodile. Take a dive into an engaging story about betrayal in friendship.\"\n",
        "\n",
        "from nltk.tokenize import sent_tokenize, word_tokenize\n",
        "def stemSentence(sentence):\n",
        "    token_words=word_tokenize(sentence)\n",
        "    print(token_words)\n",
        "    stem_sentence=[]\n",
        "    for word in token_words:\n",
        "        stem_sentence.append(porter.stem(word))\n",
        "        stem_sentence.append(\" \")\n",
        "    return \"\".join(stem_sentence)\n",
        "\n",
        "x=stemSentence(sentence)\n",
        "print(\"Sentence after stemming :\", x)\n"
      ],
      "execution_count": 18,
      "outputs": [
        {
          "output_type": "stream",
          "name": "stdout",
          "text": [
            "['Here', 'is', 'the', 'list', 'of', 'Panchatantra', 'short', 'stories', ',', 'which', 'we', 'are', 'providing', 'you', 'with', ':', 'The', 'Monkey', 'and', 'The', 'Crocodile', ':', 'This', 'Panchatantra', 'story', 'is', 'about', 'an', 'intelligent', 'Monkey', 'and', 'a', 'foolish', 'Crocodile', '.', 'Take', 'a', 'dive', 'into', 'an', 'engaging', 'story', 'about', 'betrayal', 'in', 'friendship', '.']\n",
            "Sentence after stemming : here is the list of panchatantra short stori , which we are provid you with : the monkey and the crocodil : thi panchatantra stori is about an intellig monkey and a foolish crocodil . take a dive into an engag stori about betray in friendship . \n"
          ]
        }
      ]
    },
    {
      "cell_type": "markdown",
      "metadata": {
        "id": "5F4_0bg5WDGG"
      },
      "source": [
        "Perform lemmatization on the tokens present in the give sentence."
      ]
    },
    {
      "cell_type": "code",
      "metadata": {
        "colab": {
          "base_uri": "https://localhost:8080/"
        },
        "id": "tMevtIpVWEnc",
        "outputId": "4e0b0c81-8d6f-4d89-a483-9ff1778685f2"
      },
      "source": [
        "import nltk\n",
        "nltk.download('wordnet')"
      ],
      "execution_count": 19,
      "outputs": [
        {
          "output_type": "stream",
          "name": "stdout",
          "text": [
            "[nltk_data] Downloading package wordnet to /root/nltk_data...\n",
            "[nltk_data]   Unzipping corpora/wordnet.zip.\n"
          ]
        },
        {
          "output_type": "execute_result",
          "data": {
            "text/plain": [
              "True"
            ]
          },
          "metadata": {},
          "execution_count": 19
        }
      ]
    },
    {
      "cell_type": "code",
      "metadata": {
        "colab": {
          "base_uri": "https://localhost:8080/"
        },
        "id": "txmtFe7MWkBY",
        "outputId": "5258137e-f267-4f6e-b0c3-356ee54562b3"
      },
      "source": [
        "import nltk\n",
        "from nltk.stem import WordNetLemmatizer\n",
        "wordnet_lemmatizer = WordNetLemmatizer()\n",
        "\n",
        "sentence = \"Here is the list of Panchatantra short stories, which we are providing you with: The Monkey and The Crocodile: This Panchatantra story is about an intelligent Monkey and a foolish Crocodile. Take a dive into an engaging story about betrayal in friendship.\"\n",
        "\n",
        "punctuations=\"?:!.,;\"\n",
        "token_words = nltk.word_tokenize(sentence)\n",
        "print(token_words)\n",
        "\n",
        "lemma_sentence=[]\n",
        "for word in token_words:\n",
        "  lemma_sentence.append(wordnet_lemmatizer.lemmatize(word))\n",
        "  lemma_sentence.append(\" \")\n",
        "\n",
        "print(\"lemmas of tokens: \", ''.join(lemma_sentence))\n"
      ],
      "execution_count": 20,
      "outputs": [
        {
          "output_type": "stream",
          "name": "stdout",
          "text": [
            "['Here', 'is', 'the', 'list', 'of', 'Panchatantra', 'short', 'stories', ',', 'which', 'we', 'are', 'providing', 'you', 'with', ':', 'The', 'Monkey', 'and', 'The', 'Crocodile', ':', 'This', 'Panchatantra', 'story', 'is', 'about', 'an', 'intelligent', 'Monkey', 'and', 'a', 'foolish', 'Crocodile', '.', 'Take', 'a', 'dive', 'into', 'an', 'engaging', 'story', 'about', 'betrayal', 'in', 'friendship', '.']\n",
            "lemmas of tokens:  Here is the list of Panchatantra short story , which we are providing you with : The Monkey and The Crocodile : This Panchatantra story is about an intelligent Monkey and a foolish Crocodile . Take a dive into an engaging story about betrayal in friendship . \n"
          ]
        }
      ]
    }
  ]
}